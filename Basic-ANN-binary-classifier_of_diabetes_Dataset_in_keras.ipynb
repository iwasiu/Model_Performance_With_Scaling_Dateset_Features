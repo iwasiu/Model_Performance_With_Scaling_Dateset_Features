{
 "cells": [
  {
   "cell_type": "markdown",
   "metadata": {},
   "source": [
    "# Basic ANN binary classifier_of_diabetes_Dataset_in_keras"
   ]
  },
  {
   "cell_type": "code",
   "execution_count": null,
   "metadata": {},
   "outputs": [],
   "source": [
    "import pandas as pd\n",
    "from sklearn.model_selection import train_test_split"
   ]
  },
  {
   "cell_type": "code",
   "execution_count": null,
   "metadata": {},
   "outputs": [],
   "source": [
    "# LOAD THE DIABETIC DATA\n",
    "diabetic_data = pd.read_csv('diabetes.csv')\n",
    "diabetic_data.head()"
   ]
  },
  {
   "cell_type": "code",
   "execution_count": null,
   "metadata": {},
   "outputs": [],
   "source": [
    "diabetic_data.shape"
   ]
  },
  {
   "cell_type": "code",
   "execution_count": null,
   "metadata": {},
   "outputs": [],
   "source": [
    "# explore the various features of the diabetic dataset\n",
    "diabetic_data.info()"
   ]
  },
  {
   "cell_type": "markdown",
   "metadata": {},
   "source": [
    "## Objectives: Predict Whether a person has diabetes based on the diagnostic parameters"
   ]
  },
  {
   "cell_type": "code",
   "execution_count": null,
   "metadata": {},
   "outputs": [],
   "source": [
    "# Plot chart of the labels values\n",
    "import seaborn as sns\n",
    "diabetic_data['Outcome'].value_counts().plot(kind='bar')\n",
    "print('Graph of Outcome column')\n"
   ]
  },
  {
   "cell_type": "code",
   "execution_count": null,
   "metadata": {},
   "outputs": [],
   "source": [
    "# Plot heatmap for the dataset\n",
    "import seaborn as sns\n",
    "diabetic_data = pd.read_csv('diabetes.csv')\n",
    "diabetic_data_heatmap = sns.heatmap(diabetic_data.corr())"
   ]
  },
  {
   "cell_type": "markdown",
   "metadata": {},
   "source": [
    "#### Preparing Diabetic Data For Modeling"
   ]
  },
  {
   "cell_type": "code",
   "execution_count": null,
   "metadata": {},
   "outputs": [],
   "source": [
    "# get X (e.g. predictors) and Y (response) from the diabetic data\n",
    "X = diabetic_data.iloc[:,0:8]\n",
    "Y = diabetic_data.iloc[:,8]"
   ]
  },
  {
   "cell_type": "code",
   "execution_count": null,
   "metadata": {},
   "outputs": [],
   "source": [
    "# create training and testing vars\n",
    "X_train, X_test, y_train, y_test = train_test_split(X,Y,test_size=0.2)\n",
    "print(X_train.shape,y_train.shape)\n",
    "print(X_test.shape,y_test.shape)\n"
   ]
  },
  {
   "cell_type": "markdown",
   "metadata": {},
   "source": [
    "#### Creating Keras Model sequentially(layer by layer)  ----> using sequential()\n",
    "#### (1.) ANN models with 3 layers."
   ]
  },
  {
   "cell_type": "code",
   "execution_count": null,
   "metadata": {},
   "outputs": [],
   "source": [
    "from keras.models import Sequential\n",
    "from keras.layers.core import Dense\n",
    "from sklearn.metrics import accuracy_score"
   ]
  },
  {
   "cell_type": "code",
   "execution_count": null,
   "metadata": {},
   "outputs": [],
   "source": [
    "# function to compile, split test set, set epoch number, evaluate training(to give train accuracy) and print train accuracy\n",
    "def compile_testsize_fit_three_layer(TheTestSize,TheEpochSize): \n",
    "    # Build ANN models with 3 layers.\n",
    "    keras_model = Sequential()\n",
    "    keras_model.add(Dense(12,input_dim = 8,activation = 'relu')) # first hidden layer\n",
    "    keras_model.add(Dense(8,activation = 'relu')) # second hidden layer\n",
    "    keras_model.add(Dense(4,activation = 'relu')) # third hidden layer\n",
    "    keras_model.add(Dense(1,activation = 'sigmoid')) # output hidden layer\n",
    "\n",
    "    # compile keras model\n",
    "    keras_model.compile(loss='binary_crossentropy', optimizer='adam', metrics=['accuracy'])\n",
    "    # split test set into (variable)%\n",
    "    X_train, X_test, y_train, y_test = train_test_split(X,Y,test_size=TheTestSize)\n",
    "    # set epoch number\n",
    "    keras_model.fit(X_train,y_train,epochs=TheEpochSize,batch_size=10)\n",
    "    # train accuracy\n",
    "    _,train_accuracy = keras_model.evaluate(X_train,y_train)\n",
    "    print('Train Accuracy: %.2f'% (train_accuracy*100))\n",
    "\n",
    "    # predict\n",
    "    y_pred = (keras_model.predict(X_test) > 0.5).astype(\"int32\")\n",
    "    print('accuracy_score:', accuracy_score(y_test,y_pred)*100)\n"
   ]
  },
  {
   "cell_type": "markdown",
   "metadata": {},
   "source": [
    "### consider test_size = 30% and epoch sizes = 10, 50, 100, 200"
   ]
  },
  {
   "cell_type": "code",
   "execution_count": null,
   "metadata": {},
   "outputs": [],
   "source": [
    "# test_size = 30% and epoch_size = 10\n",
    "compile_testsize_fit_three_layer(0.3,10)"
   ]
  },
  {
   "cell_type": "code",
   "execution_count": null,
   "metadata": {},
   "outputs": [],
   "source": [
    "# test_size = 30% and epoch_size = 50\n",
    "compile_testsize_fit_three_layer(0.3,50)"
   ]
  },
  {
   "cell_type": "code",
   "execution_count": null,
   "metadata": {},
   "outputs": [],
   "source": [
    "# test_size = 30% and epoch_size = 100\n",
    "compile_testsize_fit_three_layer(0.3,100)"
   ]
  },
  {
   "cell_type": "code",
   "execution_count": null,
   "metadata": {},
   "outputs": [],
   "source": [
    "# test_size = 30% and epoch_size = 200\n",
    "compile_testsize_fit_three_layer(0.3,200)\n"
   ]
  },
  {
   "cell_type": "markdown",
   "metadata": {},
   "source": [
    "### consider test_size = 40% and epoch sizes = 10, 50, 100, 200"
   ]
  },
  {
   "cell_type": "code",
   "execution_count": null,
   "metadata": {},
   "outputs": [],
   "source": [
    "# test_size = 40% and epoch_size = 10\n",
    "compile_testsize_fit_three_layer(0.4,10)"
   ]
  },
  {
   "cell_type": "code",
   "execution_count": null,
   "metadata": {},
   "outputs": [],
   "source": [
    "# test_size = 40% and epoch_size = 50\n",
    "compile_testsize_fit_three_layer(0.4,50)"
   ]
  },
  {
   "cell_type": "code",
   "execution_count": null,
   "metadata": {},
   "outputs": [],
   "source": [
    "# test_size = 40% and epoch_size = 100\n",
    "compile_testsize_fit_three_layer(0.4,100)"
   ]
  },
  {
   "cell_type": "code",
   "execution_count": null,
   "metadata": {},
   "outputs": [],
   "source": [
    "# test_size = 40% and epoch_size = 200\n",
    "compile_testsize_fit_three_layer(0.4,200)"
   ]
  },
  {
   "cell_type": "markdown",
   "metadata": {},
   "source": [
    "### consider test_size = 10% and epoch sizes = 10, 50, 100, 200"
   ]
  },
  {
   "cell_type": "code",
   "execution_count": null,
   "metadata": {},
   "outputs": [],
   "source": [
    "# test_size = 10% and epoch_size = 10\n",
    "compile_testsize_fit_three_layer(0.1,10)\n"
   ]
  },
  {
   "cell_type": "code",
   "execution_count": null,
   "metadata": {},
   "outputs": [],
   "source": [
    "# test_size = 10% and epoch_size = 50\n",
    "compile_testsize_fit_three_layer(0.1,50)"
   ]
  },
  {
   "cell_type": "code",
   "execution_count": null,
   "metadata": {},
   "outputs": [],
   "source": [
    "# test_size = 10% and epoch_size = 100\n",
    "compile_testsize_fit_three_layer(0.1,100)"
   ]
  },
  {
   "cell_type": "code",
   "execution_count": null,
   "metadata": {},
   "outputs": [],
   "source": [
    "# test_size = 10% and epoch_size = 200\n",
    "compile_testsize_fit_three_layer(0.1,200)\n"
   ]
  },
  {
   "cell_type": "markdown",
   "metadata": {},
   "source": [
    "#### (2.) ANN models with 4 layers."
   ]
  },
  {
   "cell_type": "code",
   "execution_count": null,
   "metadata": {},
   "outputs": [],
   "source": [
    "from keras.models import Sequential\n",
    "from keras.layers.core import Dense\n",
    "\n",
    "def compile_testsize_fit_four_layer(TheTestSize,TheEpochSize): \n",
    "    # Build ANN models with 4 layers.\n",
    "    keras_model2 = Sequential()\n",
    "    keras_model2.add(Dense(12,input_dim = 8,activation = 'relu')) # first hidden layer\n",
    "    keras_model2.add(Dense(8,activation = 'relu')) # second hidden layer\n",
    "    keras_model2.add(Dense(6,activation = 'relu')) # third hidden layer\n",
    "    keras_model2.add(Dense(3,activation = 'relu')) # fourth hidden layer\n",
    "    keras_model2.add(Dense(1,activation = 'sigmoid')) # output hidden layer\n",
    "\n",
    "    # compile keras model\n",
    "    keras_model2.compile(loss='binary_crossentropy', optimizer='adam', metrics=['accuracy'])\n",
    "    # split test set into (variable)%\n",
    "    X_train, X_test, y_train, y_test = train_test_split(X,Y,test_size=TheTestSize)\n",
    "    # set epoch number\n",
    "    keras_model2.fit(X_train,y_train,epochs=TheEpochSize,batch_size=10)\n",
    "    # train accuracy\n",
    "    _,train_accuracy = keras_model2.evaluate(X_train,y_train)\n",
    "    print('Train Accuracy: %.2f'% (train_accuracy*100))\n",
    "\n",
    "    # predict\n",
    "    y_pred = (keras_model2.predict(X_test) > 0.5).astype(\"int32\")\n",
    "    print('accuracy_score:', accuracy_score(y_test,y_pred)*100)"
   ]
  },
  {
   "cell_type": "markdown",
   "metadata": {},
   "source": [
    "### consider test_size = 10% and epoch sizes = 10, 50, 100, 200"
   ]
  },
  {
   "cell_type": "code",
   "execution_count": null,
   "metadata": {},
   "outputs": [],
   "source": [
    "# test_size = 10% and epoch_size = 10\n",
    "compile_testsize_fit_four_layer(0.1,10)"
   ]
  },
  {
   "cell_type": "code",
   "execution_count": null,
   "metadata": {},
   "outputs": [],
   "source": [
    "# test_size = 10% and epoch_size = 50\n",
    "compile_testsize_fit_four_layer(0.1,50)"
   ]
  },
  {
   "cell_type": "code",
   "execution_count": null,
   "metadata": {},
   "outputs": [],
   "source": [
    "# test_size = 10% and epoch_size = 100\n",
    "compile_testsize_fit_four_layer(0.1,100)"
   ]
  },
  {
   "cell_type": "code",
   "execution_count": null,
   "metadata": {},
   "outputs": [],
   "source": [
    "# test_size = 10% and epoch_size = 200\n",
    "compile_testsize_fit_four_layer(0.1,200)\n"
   ]
  },
  {
   "cell_type": "markdown",
   "metadata": {},
   "source": [
    "### consider test_size = 30% and epoch sizes = 10, 50, 100, 200"
   ]
  },
  {
   "cell_type": "code",
   "execution_count": null,
   "metadata": {},
   "outputs": [],
   "source": [
    "# test_size = 30% and epoch_size = 10\n",
    "compile_testsize_fit_four_layer(0.3,10)\n"
   ]
  },
  {
   "cell_type": "code",
   "execution_count": null,
   "metadata": {},
   "outputs": [],
   "source": [
    "# test_size = 30% and epoch_size = 50\n",
    "compile_testsize_fit_four_layer(0.3,50)\n"
   ]
  },
  {
   "cell_type": "code",
   "execution_count": null,
   "metadata": {},
   "outputs": [],
   "source": [
    "# test_size = 30% and epoch_size = 100\n",
    "compile_testsize_fit_four_layer(0.3,100)\n"
   ]
  },
  {
   "cell_type": "code",
   "execution_count": null,
   "metadata": {},
   "outputs": [],
   "source": [
    "# test_size = 30% and epoch_size = 200\n",
    "compile_testsize_fit_four_layer(0.3,200)\n"
   ]
  },
  {
   "cell_type": "markdown",
   "metadata": {},
   "source": [
    "### consider test_size = 40% and epoch sizes = 10, 50, 100, 200"
   ]
  },
  {
   "cell_type": "code",
   "execution_count": null,
   "metadata": {},
   "outputs": [],
   "source": [
    "# test_size = 40% and epoch_size = 10\n",
    "compile_testsize_fit_four_layer(0.4,10)\n"
   ]
  },
  {
   "cell_type": "code",
   "execution_count": null,
   "metadata": {},
   "outputs": [],
   "source": [
    "# test_size = 40% and epoch_size = 50\n",
    "compile_testsize_fit_four_layer(0.4,50)\n"
   ]
  },
  {
   "cell_type": "code",
   "execution_count": null,
   "metadata": {},
   "outputs": [],
   "source": [
    "# test_size = 40% and epoch_size = 100\n",
    "compile_testsize_fit_four_layer(0.4,100)\n"
   ]
  },
  {
   "cell_type": "code",
   "execution_count": null,
   "metadata": {},
   "outputs": [],
   "source": [
    "# test_size = 40% and epoch_size = 200\n",
    "compile_testsize_fit_four_layer(0.4,200)\n"
   ]
  },
  {
   "cell_type": "markdown",
   "metadata": {},
   "source": [
    "#### (3.) ANN models with 5 layers."
   ]
  },
  {
   "cell_type": "code",
   "execution_count": null,
   "metadata": {},
   "outputs": [],
   "source": [
    "from keras.models import Sequential\n",
    "from keras.layers.core import Dense\n",
    "\n",
    "def compile_testsize_fit_five_layer(TheTestSize,TheEpochSize): \n",
    "# Build ANN models with 5 layers.\n",
    "    keras_model3 = Sequential()\n",
    "    keras_model3.add(Dense(12,input_dim = 8,activation = 'relu')) # first hidden layer\n",
    "    keras_model3.add(Dense(8,activation = 'relu')) # second hidden layer\n",
    "    keras_model3.add(Dense(6,activation = 'relu')) # third hidden layer\n",
    "    keras_model3.add(Dense(3,activation = 'relu')) # fourth hidden layer\n",
    "    keras_model3.add(Dense(2,activation = 'relu')) # fifth hidden layer\n",
    "    keras_model3.add(Dense(1,activation = 'sigmoid')) # output hidden layer\n",
    "  \n",
    "    # compile keras model\n",
    "    keras_model3.compile(loss='binary_crossentropy', optimizer='adam', metrics=['accuracy'])\n",
    "    # split test set into (variable)%\n",
    "    X_train, X_test, y_train, y_test = train_test_split(X,Y,test_size=TheTestSize)\n",
    "    # set epoch number\n",
    "    keras_model3.fit(X_train,y_train,epochs=TheEpochSize,batch_size=10)\n",
    "    # train accuracy\n",
    "    _,train_accuracy = keras_model3.evaluate(X_train,y_train)\n",
    "    print('Train Accuracy: %.2f'% (train_accuracy*100))\n",
    "\n",
    "    # predict\n",
    "    y_pred = (keras_model3.predict(X_test) > 0.5).astype(\"int32\")\n",
    "    print('accuracy_score:', accuracy_score(y_test,y_pred)*100)"
   ]
  },
  {
   "cell_type": "markdown",
   "metadata": {},
   "source": [
    "### consider test_size = 10% and epoch sizes = 10, 50, 100, 200"
   ]
  },
  {
   "cell_type": "code",
   "execution_count": null,
   "metadata": {},
   "outputs": [],
   "source": [
    "# test_size = 10% and epoch_size = 10\n",
    "compile_testsize_fit_four_layer(0.1,10)\n"
   ]
  },
  {
   "cell_type": "code",
   "execution_count": null,
   "metadata": {},
   "outputs": [],
   "source": [
    "# test_size = 10% and epoch_size = 50\n",
    "compile_testsize_fit_four_layer(0.1,50)\n"
   ]
  },
  {
   "cell_type": "code",
   "execution_count": null,
   "metadata": {},
   "outputs": [],
   "source": [
    "# test_size = 10% and epoch_size = 100\n",
    "compile_testsize_fit_four_layer(0.1,100)\n"
   ]
  },
  {
   "cell_type": "code",
   "execution_count": null,
   "metadata": {},
   "outputs": [],
   "source": [
    "# test_size = 10% and epoch_size = 200\n",
    "compile_testsize_fit_five_layer(0.1,200)"
   ]
  },
  {
   "cell_type": "markdown",
   "metadata": {},
   "source": [
    "### consider test_size = 30% and epoch sizes = 10, 50, 100, 200"
   ]
  },
  {
   "cell_type": "code",
   "execution_count": null,
   "metadata": {},
   "outputs": [],
   "source": [
    "# test_size = 30% and epoch_size = 10\n",
    "compile_testsize_fit_four_layer(0.3,10)\n"
   ]
  },
  {
   "cell_type": "code",
   "execution_count": null,
   "metadata": {},
   "outputs": [],
   "source": [
    "# test_size = 30% and epoch_size = 50\n",
    "compile_testsize_fit_four_layer(0.3,50)\n"
   ]
  },
  {
   "cell_type": "code",
   "execution_count": null,
   "metadata": {},
   "outputs": [],
   "source": [
    "# test_size = 30% and epoch_size = 100\n",
    "compile_testsize_fit_four_layer(0.3,100)\n"
   ]
  },
  {
   "cell_type": "code",
   "execution_count": null,
   "metadata": {},
   "outputs": [],
   "source": [
    "# test_size = 30% and epoch_size = 200\n",
    "compile_testsize_fit_four_layer(0.3,200)\n"
   ]
  },
  {
   "cell_type": "markdown",
   "metadata": {},
   "source": [
    "### consider test_size = 40% and epoch sizes = 10, 50, 100, 200"
   ]
  },
  {
   "cell_type": "code",
   "execution_count": null,
   "metadata": {},
   "outputs": [],
   "source": [
    "# test_size = 40% and epoch_size = 10\n",
    "compile_testsize_fit_four_layer(0.4,10)\n"
   ]
  },
  {
   "cell_type": "code",
   "execution_count": null,
   "metadata": {},
   "outputs": [],
   "source": [
    "# test_size = 40% and epoch_size = 50\n",
    "compile_testsize_fit_four_layer(0.4,50)\n"
   ]
  },
  {
   "cell_type": "code",
   "execution_count": null,
   "metadata": {},
   "outputs": [],
   "source": [
    "# test_size = 40% and epoch_size = 100\n",
    "compile_testsize_fit_four_layer(0.4,100)\n"
   ]
  },
  {
   "cell_type": "code",
   "execution_count": null,
   "metadata": {},
   "outputs": [],
   "source": [
    "# test_size = 40% and epoch_size = 200\n",
    "compile_testsize_fit_four_layer(0.4,200)\n"
   ]
  }
 ],
 "metadata": {
  "interpreter": {
   "hash": "2eef51a9640d9e987a60fb77633a4963fc3cba1c77a546ef394b6717da5f7638"
  },
  "kernelspec": {
   "display_name": "Python 3.8.8 ('base')",
   "language": "python",
   "name": "python3"
  },
  "language_info": {
   "codemirror_mode": {
    "name": "ipython",
    "version": 3
   },
   "file_extension": ".py",
   "mimetype": "text/x-python",
   "name": "python",
   "nbconvert_exporter": "python",
   "pygments_lexer": "ipython3",
   "version": "3.8.8"
  },
  "orig_nbformat": 4
 },
 "nbformat": 4,
 "nbformat_minor": 2
}
